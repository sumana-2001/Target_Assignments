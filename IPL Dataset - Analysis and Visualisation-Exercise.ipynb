{
 "cells": [
  {
   "cell_type": "markdown",
   "id": "45c3dc47",
   "metadata": {},
   "source": [
    "# IPL Dataset - Analysis and Visualisation"
   ]
  },
  {
   "cell_type": "markdown",
   "id": "afe74f9b",
   "metadata": {},
   "source": [
    "### Context: \n",
    "\n",
    "Now that this year's IPL is scheduled for Mar-May 2022, let's show our cricket love and start analyzing the whole of IPL with this latest and complete Indian Premier League dataset. It contains the match descriptions, results, winners, player of the matches, ball by ball dataset and much more. Let's analyze the dataset and come up with the insights.\n",
    "\n",
    "Name of the Dataset: IPL Matches 2008-2020.csv\n",
    "\n",
    "#### Please try and answer the questions below:"
   ]
  },
  {
   "cell_type": "markdown",
   "id": "6f1e296e",
   "metadata": {},
   "source": [
    "1. Plot a bar chart to visualize total number of matches played in each season. Which Season had most number of matches?\n",
    "2. Get the top 10 name of umpires based on count of matches.\n",
    "3. Plot a pie chart and see what is the breakup of decisions made after winning the toss.\n",
    "4. Could we tell what percentage of times team has won the toss and won the game.\n",
    "5. Which team won maximum number of matches?\n",
    "6. Which stadium hosted most number of matches?\n",
    "7. which match (id) had the biggest win in terms of run margin?\n",
    "8. Who won the \"Man of the match\" most number of times?\n",
    "9. Top 5 Stadiums for winning games batting first.\n",
    "10. Top 5 Stadiums for winning games batting second."
   ]
  },
  {
   "cell_type": "code",
   "execution_count": 2,
   "id": "a1bc345d",
   "metadata": {},
   "outputs": [
    {
     "ename": "ModuleNotFoundError",
     "evalue": "No module named 'pandas'",
     "output_type": "error",
     "traceback": [
      "\u001b[1;31m---------------------------------------------------------------------------\u001b[0m",
      "\u001b[1;31mModuleNotFoundError\u001b[0m                       Traceback (most recent call last)",
      "Input \u001b[1;32mIn [2]\u001b[0m, in \u001b[0;36m<cell line: 4>\u001b[1;34m()\u001b[0m\n\u001b[0;32m      2\u001b[0m \u001b[38;5;28;01mfrom\u001b[39;00m \u001b[38;5;21;01mwarnings\u001b[39;00m \u001b[38;5;28;01mimport\u001b[39;00m filterwarnings\n\u001b[0;32m      3\u001b[0m filterwarnings(\u001b[38;5;124m'\u001b[39m\u001b[38;5;124mignore\u001b[39m\u001b[38;5;124m'\u001b[39m)\n\u001b[1;32m----> 4\u001b[0m \u001b[38;5;28;01mimport\u001b[39;00m \u001b[38;5;21;01mpandas\u001b[39;00m \u001b[38;5;28;01mas\u001b[39;00m \u001b[38;5;21;01mpd\u001b[39;00m\n\u001b[0;32m      5\u001b[0m \u001b[38;5;28;01mimport\u001b[39;00m \u001b[38;5;21;01mnumpy\u001b[39;00m \u001b[38;5;28;01mas\u001b[39;00m \u001b[38;5;21;01mnp\u001b[39;00m\n\u001b[0;32m      6\u001b[0m \u001b[38;5;28;01mimport\u001b[39;00m \u001b[38;5;21;01mmatplotlib\u001b[39;00m\u001b[38;5;21;01m.\u001b[39;00m\u001b[38;5;21;01mpyplot\u001b[39;00m \u001b[38;5;28;01mas\u001b[39;00m \u001b[38;5;21;01mplt\u001b[39;00m\n",
      "\u001b[1;31mModuleNotFoundError\u001b[0m: No module named 'pandas'"
     ]
    }
   ],
   "source": [
    "# import the required libraries\n",
    "from warnings import filterwarnings\n",
    "filterwarnings('ignore')\n",
    "import pandas as pd\n",
    "import numpy as np\n",
    "import matplotlib.pyplot as plt\n",
    "import seaborn as sns"
   ]
  },
  {
   "cell_type": "code",
   "execution_count": null,
   "id": "07e0a555",
   "metadata": {},
   "outputs": [],
   "source": [
    "# read dataset\n",
    "df = pd.read_csv('IPL Matches 2008-2020.csv')\n",
    "print(df.shape)\n",
    "df.head()"
   ]
  },
  {
   "cell_type": "markdown",
   "id": "71534ef2",
   "metadata": {},
   "source": [
    "_______________________________________\n"
   ]
  },
  {
   "cell_type": "code",
   "execution_count": null,
   "id": "27323c6d",
   "metadata": {},
   "outputs": [],
   "source": []
  },
  {
   "cell_type": "code",
   "execution_count": null,
   "id": "6fd1dea6",
   "metadata": {},
   "outputs": [],
   "source": []
  },
  {
   "cell_type": "code",
   "execution_count": null,
   "id": "8e5ddc70",
   "metadata": {},
   "outputs": [],
   "source": []
  },
  {
   "cell_type": "code",
   "execution_count": null,
   "id": "3721d399",
   "metadata": {},
   "outputs": [],
   "source": []
  }
 ],
 "metadata": {
  "kernelspec": {
   "display_name": "Python 3 (ipykernel)",
   "language": "python",
   "name": "python3"
  },
  "language_info": {
   "codemirror_mode": {
    "name": "ipython",
    "version": 3
   },
   "file_extension": ".py",
   "mimetype": "text/x-python",
   "name": "python",
   "nbconvert_exporter": "python",
   "pygments_lexer": "ipython3",
   "version": "3.10.2"
  }
 },
 "nbformat": 4,
 "nbformat_minor": 5
}
